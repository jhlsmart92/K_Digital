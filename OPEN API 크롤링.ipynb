{
 "cells": [
  {
   "cell_type": "markdown",
   "id": "changing-dutch",
   "metadata": {},
   "source": [
    "# 1.1 공공데이터포탈 전기차 충전소 API 크롤링"
   ]
  },
  {
   "cell_type": "code",
   "execution_count": null,
   "id": "established-thanksgiving",
   "metadata": {},
   "outputs": [],
   "source": [
    "# 기사 : https://n.news.naver.com/article/008/0004208656\n",
    "# 공시지가 사이트 : http://rtdown.molit.go.kr/\n",
    "# 공공데이터포탈 API 주소 : https://www.data.go.kr/data/15076352/openapi.do"
   ]
  },
  {
   "cell_type": "code",
   "execution_count": 1,
   "id": "buried-firmware",
   "metadata": {},
   "outputs": [
    {
     "name": "stdout",
     "output_type": "stream",
     "text": [
      "http://apis.data.go.kr/B552584/EvCharger/getChargerInfo?ServiceKey=1lsk6Np8Eof%2FL%2B6STErYet4sFcoGPtD2koMJvc5TdYEUDwvR7OiF3IX7wsZrwIKlh5s0ofxv9In4frqUYtLIgg%3D%3D&pageNo=1&numOfRows=1000&zcode=11\n",
      "                                      addr   busiCall busiId busiNm chgerId  \\\n",
      "0        서울특별시 종로구 종로 157, 지하주차장 4층 하층 T구역  1661-9408     ME    환경부      01   \n",
      "1   서울특별시 종로구 세종대로 189, 지하주차장 4층 D구역 계단실 앞  1661-9408     ME    환경부      01   \n",
      "2                서울특별시 중구 동호로 287, 대형버스주차장  1661-9408     ME    환경부      01   \n",
      "3            서울특별시 용산구 한남동 산10-84, 지상실외주차장  1661-9408     ME    환경부      01   \n",
      "4  서울특별시 성동구 성수이로26길 61, 지상주차장 입구 좌측 경비실 옆  1661-9408     ME    환경부      01   \n",
      "\n",
      "  chgerType        lat         lng                  note parkingFree  \\\n",
      "0        03  37.571076  126.995880                  None           Y   \n",
      "1        06  37.573611  126.976011                  None           Y   \n",
      "2        06  37.559352  127.002350                  None           N   \n",
      "3        03  37.540085  127.002804                  None           Y   \n",
      "4        03  37.544834  127.064226  20190626 공사로 인한 임시철거           N   \n",
      "\n",
      "  powerType stat    statId       statNm       statUpdDt    useTime zcode  \n",
      "0  급속(50kW)    9  ME000001     종묘 공영주차장  20210415145810  24시간 이용가능    11  \n",
      "1  급속(50kW)    2  ME000002    세종로 공영주차장  20210415005008  24시간 이용가능    11  \n",
      "2  급속(50kW)    9  ME000003   그랜드앰배서더 서울  20210415151810  24시간 이용가능    11  \n",
      "3  급속(50kW)    9  ME000004   한강진역 공영주차장  20210415115810  24시간 이용가능    11  \n",
      "4  급속(50kW)    9  ME000005  기아차 성동서비스센터  20180727162950  24시간 이용가능    11  \n"
     ]
    }
   ],
   "source": [
    "from urllib.request import Request, urlopen\n",
    "from urllib.parse import urlencode, quote_plus, unquote\n",
    "from xml.etree import ElementTree\n",
    "import pandas as pd\n",
    "\n",
    "# servicekey -> decode_key 사용\n",
    "servicekey = '1lsk6Np8Eof/L+6STErYet4sFcoGPtD2koMJvc5TdYEUDwvR7OiF3IX7wsZrwIKlh5s0ofxv9In4frqUYtLIgg=='\n",
    "url = 'http://apis.data.go.kr/B552584/EvCharger/getChargerInfo'\n",
    "queryParams = '?' + urlencode({ quote_plus('ServiceKey') : servicekey, quote_plus('pageNo') : '1', quote_plus('numOfRows') : '9999', quote_plus('zcode') : '11' })\n",
    "print(url+queryParams)\n",
    "\n",
    "request = Request(url + queryParams)\n",
    "request.get_method = lambda: 'GET'\n",
    "response_body = urlopen(request).read()\n",
    "root = ElementTree.fromstring(response_body)\n",
    "\n",
    "df = pd.DataFrame()\n",
    "for item in root.iter('item'):\n",
    "    item_dict = {}\n",
    "    item_dict = {}\n",
    "    item_dict['statNm'] = item.find('statNm').text\n",
    "    item_dict['statId'] = item.find('statId').text\n",
    "    item_dict['chgerId'] = item.find('chgerId').text\n",
    "    item_dict['chgerType'] = item.find('chgerType').text\n",
    "    item_dict['addr'] = item.find('addr').text                    # addr -> 주소 데이터\n",
    "    item_dict['lat'] = item.find('lat').text\n",
    "    item_dict['lng'] = item.find('lng').text\n",
    "    item_dict['useTime'] = item.find('useTime').text\n",
    "    item_dict['busiId'] = item.find('busiId').text              \n",
    "    item_dict['busiNm'] = item.find('busiNm').text\n",
    "    item_dict['busiCall'] = item.find('busiCall').text\n",
    "    item_dict['stat'] = item.find('stat').text                  \n",
    "    item_dict['statUpdDt'] = item.find('statUpdDt').text    \n",
    "    item_dict['powerType'] = item.find('powerType').text    \n",
    "    item_dict['zcode'] = item.find('zcode').text\n",
    "    item_dict['parkingFree'] = item.find('parkingFree').text\n",
    "    item_dict['note'] = item.find('note').text    \n",
    "    \n",
    "    df = df.append(item_dict, ignore_index = True)            # 충전소 데이터 목록들 dataframe으로 저장\n",
    "print(df.head())                                              #df 처음 5개 행만 출력\n",
    "df.to_csv(path_or_buf=r\"ev_seoul.csv\", encoding='euc-kr')     # df -> ev_seoul csv 파일 생성 ,총 8523개 행"
   ]
  },
  {
   "cell_type": "code",
   "execution_count": null,
   "id": "external-outdoors",
   "metadata": {},
   "outputs": [],
   "source": []
  },
  {
   "cell_type": "code",
   "execution_count": null,
   "id": "annual-boost",
   "metadata": {},
   "outputs": [],
   "source": []
  },
  {
   "cell_type": "code",
   "execution_count": null,
   "id": "attempted-things",
   "metadata": {},
   "outputs": [],
   "source": []
  },
  {
   "cell_type": "code",
   "execution_count": null,
   "id": "identical-naples",
   "metadata": {},
   "outputs": [],
   "source": []
  },
  {
   "cell_type": "code",
   "execution_count": null,
   "id": "greek-obligation",
   "metadata": {},
   "outputs": [],
   "source": []
  },
  {
   "cell_type": "code",
   "execution_count": null,
   "id": "billion-little",
   "metadata": {},
   "outputs": [],
   "source": []
  },
  {
   "cell_type": "code",
   "execution_count": null,
   "id": "further-latter",
   "metadata": {},
   "outputs": [],
   "source": []
  },
  {
   "cell_type": "code",
   "execution_count": null,
   "id": "rapid-determination",
   "metadata": {},
   "outputs": [],
   "source": []
  },
  {
   "cell_type": "code",
   "execution_count": null,
   "id": "robust-diving",
   "metadata": {},
   "outputs": [],
   "source": []
  },
  {
   "cell_type": "code",
   "execution_count": null,
   "id": "precise-classroom",
   "metadata": {},
   "outputs": [],
   "source": []
  },
  {
   "cell_type": "code",
   "execution_count": null,
   "id": "narrative-spectacular",
   "metadata": {},
   "outputs": [],
   "source": []
  },
  {
   "cell_type": "code",
   "execution_count": null,
   "id": "processed-candidate",
   "metadata": {},
   "outputs": [],
   "source": []
  }
 ],
 "metadata": {
  "kernelspec": {
   "display_name": "Python 3",
   "language": "python",
   "name": "python3"
  },
  "language_info": {
   "codemirror_mode": {
    "name": "ipython",
    "version": 3
   },
   "file_extension": ".py",
   "mimetype": "text/x-python",
   "name": "python",
   "nbconvert_exporter": "python",
   "pygments_lexer": "ipython3",
   "version": "3.8.8"
  }
 },
 "nbformat": 4,
 "nbformat_minor": 5
}
